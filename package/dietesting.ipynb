{
 "cells": [
  {
   "cell_type": "code",
   "execution_count": 1,
   "metadata": {},
   "outputs": [],
   "source": [
    "from die import Die\n",
    "import unittest"
   ]
  },
  {
   "cell_type": "code",
   "execution_count": 10,
   "metadata": {},
   "outputs": [
    {
     "name": "stderr",
     "output_type": "stream",
     "text": [
      "E\n",
      "======================================================================\n",
      "ERROR: test_change_weight (__main__.Die)\n",
      "----------------------------------------------------------------------\n",
      "Traceback (most recent call last):\n",
      "  File \"<ipython-input-10-894a19d00cb3>\", line 10, in test_change_weight\n",
      "    attempt = Die(narray)\n",
      "  File \"/opt/anaconda3/lib/python3.8/unittest/case.py\", line 433, in __init__\n",
      "    testMethod = getattr(self, methodName)\n",
      "TypeError: getattr(): attribute name must be string\n",
      "\n",
      "----------------------------------------------------------------------\n",
      "Ran 1 test in 0.002s\n",
      "\n",
      "FAILED (errors=1)\n"
     ]
    }
   ],
   "source": [
    "class Die(unittest.TestCase):\n",
    "\n",
    "        # test if change_weight() method successfully changes the\n",
    "        # weight of a face in the N attribute of Die class\n",
    "        \n",
    "    def test_change_weight(self):\n",
    "\n",
    "        # Create die instance, changing the weight of face 'a'\n",
    "        narray = ['a','b','c']\n",
    "        attempt = Die(narray)\n",
    "        attempt.change_weight('a',2)\n",
    "        \n",
    "        # Test\n",
    "        expected = 2\n",
    "        # unittest.TestCase brings in the assertEqual() method\n",
    "        self.assertEqual(attempt.W[0], expected)\n",
    "        \n",
    "if __name__ == '__main__':\n",
    "    #unittest.main(verbosity=2)\n",
    "    unittest.main(argv=['first-arg-is-ignored'], exit=False)"
   ]
  },
  {
   "cell_type": "code",
   "execution_count": null,
   "metadata": {},
   "outputs": [],
   "source": [
    "class Die(unittest.TestCase):\n",
    "\n",
    "        # test if change_weight() method successfully changes the\n",
    "        # weight of a face in the N attribute of Die class\n",
    "        \n",
    "    def test_change_weight(self):\n",
    "\n",
    "        # Create die instance, changing the weight of face 'a'\n",
    "        narray = ['a','b','c']\n",
    "        attempt = Die(narray)\n",
    "        attempt.change_weight('a',2)\n",
    "        \n",
    "        # Test\n",
    "        expected = 2\n",
    "        # unittest.TestCase brings in the assertEqual() method\n",
    "        self.assertEqual(attempt.W[0], expected)\n",
    "        \n",
    "if __name__ == '__main__':\n",
    "    #unittest.main(verbosity=2)\n",
    "    unittest.main(argv=['first-arg-is-ignored'], exit=False)"
   ]
  },
  {
   "cell_type": "code",
   "execution_count": 11,
   "metadata": {},
   "outputs": [
    {
     "name": "stderr",
     "output_type": "stream",
     "text": [
      "E\n",
      "======================================================================\n",
      "ERROR: test_roll_die (__main__.Die)\n",
      "----------------------------------------------------------------------\n",
      "Traceback (most recent call last):\n",
      "  File \"<ipython-input-11-d96c59526707>\", line 10, in test_roll_die\n",
      "    attempt = Die(narray)\n",
      "  File \"/opt/anaconda3/lib/python3.8/unittest/case.py\", line 433, in __init__\n",
      "    testMethod = getattr(self, methodName)\n",
      "TypeError: getattr(): attribute name must be string\n",
      "\n",
      "----------------------------------------------------------------------\n",
      "Ran 1 test in 0.012s\n",
      "\n",
      "FAILED (errors=1)\n"
     ]
    }
   ],
   "source": [
    "class Die(unittest.TestCase):\n",
    "\n",
    "        # test if change_weight() method successfully changes the\n",
    "        # weight of a face in the N attribute of Die class\n",
    "        \n",
    "    def test_roll_die(self, nrolls=1):\n",
    "\n",
    "        # Create die instance, rolling the die 2 times\n",
    "        narray = ['a','b','c']\n",
    "        attempt = Die(narray)\n",
    "        attempt.roll_die(3)\n",
    "        \n",
    "        # Test\n",
    "        expected = 2\n",
    "        # unittest.TestCase brings in the assertEqual() method\n",
    "        self.assertEqual(attempt.W[0], expected)\n",
    "        \n",
    "if __name__ == '__main__':\n",
    "    #unittest.main(verbosity=2)\n",
    "    unittest.main(argv=['first-arg-is-ignored'], exit=False)"
   ]
  },
  {
   "cell_type": "code",
   "execution_count": null,
   "metadata": {},
   "outputs": [],
   "source": []
  }
 ],
 "metadata": {
  "kernelspec": {
   "display_name": "Python 3",
   "language": "python",
   "name": "python3"
  },
  "language_info": {
   "codemirror_mode": {
    "name": "ipython",
    "version": 3
   },
   "file_extension": ".py",
   "mimetype": "text/x-python",
   "name": "python",
   "nbconvert_exporter": "python",
   "pygments_lexer": "ipython3",
   "version": "3.8.5"
  }
 },
 "nbformat": 4,
 "nbformat_minor": 4
}
