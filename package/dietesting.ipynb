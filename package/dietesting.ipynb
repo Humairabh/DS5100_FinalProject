{
 "cells": [
  {
   "cell_type": "code",
   "execution_count": 10,
   "metadata": {},
   "outputs": [],
   "source": [
    "from die import Die\n",
    "import unittest\n",
    "import numpy as np\n",
    "import pandas as pd\n",
    "import random\n",
    "from random import choices\n",
    "from itertools import combinations\n",
    "from itertools import combinations_with_replacement"
   ]
  },
  {
   "cell_type": "code",
   "execution_count": 12,
   "metadata": {},
   "outputs": [
    {
     "name": "stderr",
     "output_type": "stream",
     "text": [
      "EE\n",
      "======================================================================\n",
      "ERROR: test_change_weight (__main__.Die)\n",
      "----------------------------------------------------------------------\n",
      "Traceback (most recent call last):\n",
      "  File \"<ipython-input-11-9151db972a1a>\", line 10, in test_change_weight\n",
      "    attempt = Die(narray)\n",
      "  File \"/opt/anaconda3/lib/python3.8/unittest/case.py\", line 433, in __init__\n",
      "    testMethod = getattr(self, methodName)\n",
      "TypeError: getattr(): attribute name must be string\n",
      "\n",
      "======================================================================\n",
      "ERROR: test_change_weight (__main__.DieTestCase)\n",
      "----------------------------------------------------------------------\n",
      "Traceback (most recent call last):\n",
      "  File \"<ipython-input-12-a7cac8c50fb9>\", line 10, in test_change_weight\n",
      "    attempt = Die(narray)\n",
      "  File \"/opt/anaconda3/lib/python3.8/unittest/case.py\", line 433, in __init__\n",
      "    testMethod = getattr(self, methodName)\n",
      "TypeError: getattr(): attribute name must be string\n",
      "\n",
      "----------------------------------------------------------------------\n",
      "Ran 2 tests in 0.008s\n",
      "\n",
      "FAILED (errors=2)\n"
     ]
    }
   ],
   "source": [
    "class DieTestCase(unittest.TestCase):\n",
    "\n",
    "        # test if change_weight() method successfully changes the\n",
    "        # weight of a face in the N attribute of Die class\n",
    "        \n",
    "    def test_change_weight(self):\n",
    "\n",
    "        # Create die instance, changing the weight of face 'a'\n",
    "        narray = np.array(['a', 'b', 'c'])\n",
    "        attempt = Die(narray)\n",
    "        attempt.change_weight('a',10)\n",
    "        expected = 10.0\n",
    "        # unittest.TestCase brings in the assertEqual() method\n",
    "        self.assertEqual(attempt._dfpriv.weights.values[0], expected)\n",
    "        \n",
    "if __name__ == '__main__':\n",
    "    #unittest.main(verbosity=2)\n",
    "    unittest.main(argv=['first-arg-is-ignored'], exit=False)"
   ]
  },
  {
   "cell_type": "code",
   "execution_count": 6,
   "metadata": {},
   "outputs": [
    {
     "name": "stderr",
     "output_type": "stream",
     "text": [
      "E\n",
      "======================================================================\n",
      "ERROR: test_roll_die (__main__.Die)\n",
      "----------------------------------------------------------------------\n",
      "Traceback (most recent call last):\n",
      "  File \"<ipython-input-6-95bf421c0b1d>\", line 10, in test_roll_die\n",
      "    attempt = Die(narray)\n",
      "  File \"/opt/anaconda3/lib/python3.8/unittest/case.py\", line 433, in __init__\n",
      "    testMethod = getattr(self, methodName)\n",
      "TypeError: getattr(): attribute name must be string\n",
      "\n",
      "----------------------------------------------------------------------\n",
      "Ran 1 test in 0.004s\n",
      "\n",
      "FAILED (errors=1)\n"
     ]
    }
   ],
   "source": [
    "class DieTest(unittest.TestCase):\n",
    "\n",
    "        # test if change_weight() method successfully changes the\n",
    "        # weight of a face in the N attribute of Die class\n",
    "        \n",
    "    def test_roll_die(self, nrolls=1):\n",
    "\n",
    "        # Create die instance, rolling the die 2 times\n",
    "        narray = ['a','b','c']\n",
    "        attempt = Die(narray)\n",
    "        attempt.roll_die(3)\n",
    "        \n",
    "        # Test\n",
    "        expected = 3\n",
    "        # unittest.TestCase brings in the assertEqual() method\n",
    "        self.assertEqual(len(attempt.roll_die(3)), expected)\n",
    "        \n",
    "if __name__ == '__main__':\n",
    "    #unittest.main(verbosity=2)\n",
    "    unittest.main(argv=['first-arg-is-ignored'], exit=False)"
   ]
  },
  {
   "cell_type": "code",
   "execution_count": null,
   "metadata": {},
   "outputs": [],
   "source": []
  }
 ],
 "metadata": {
  "kernelspec": {
   "display_name": "Python 3",
   "language": "python",
   "name": "python3"
  },
  "language_info": {
   "codemirror_mode": {
    "name": "ipython",
    "version": 3
   },
   "file_extension": ".py",
   "mimetype": "text/x-python",
   "name": "python",
   "nbconvert_exporter": "python",
   "pygments_lexer": "ipython3",
   "version": "3.8.5"
  }
 },
 "nbformat": 4,
 "nbformat_minor": 4
}
