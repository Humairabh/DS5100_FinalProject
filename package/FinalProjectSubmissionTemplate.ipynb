{
 "cells": [
  {
   "cell_type": "markdown",
   "metadata": {},
   "source": [
    "# Metadata\n",
    "\n",
    "* Title: **Final Project Report**\n",
    "* Class: DS 5100\n",
    "* Date: 07/15/2022\n",
    "* Student Name: Humaira Halim\n",
    "* Student Net ID: hbh4bv\n",
    "* This URL: https://github.com/Humairabh/DS5100_FinalProject/blob/main/FinalProjectSubmissionTemplate.ipynb\n",
    "* GitHub Repo URL: https://github.com/Humairabh/DS5100_FinalProject"
   ]
  },
  {
   "cell_type": "markdown",
   "metadata": {},
   "source": [
    "# The Monte Carlo Module"
   ]
  },
  {
   "cell_type": "code",
   "execution_count": null,
   "metadata": {},
   "outputs": [],
   "source": [
    "import numpy as np\n",
    "import pandas as pd\n",
    "import random\n",
    "from random import choices\n",
    "from itertools import combinations\n",
    "from itertools import combinations_with_replacement"
   ]
  },
  {
   "cell_type": "markdown",
   "metadata": {},
   "source": [
    "# Test Module"
   ]
  },
  {
   "cell_type": "code",
   "execution_count": 1,
   "metadata": {},
   "outputs": [],
   "source": [
    "class Die:\n",
    "    \"\"\"\n",
    "    A class used to represent a Die. A die has N sides, or “faces”, and W weights, and can be rolled to select a face. \n",
    "\n",
    "    ...\n",
    "\n",
    "    Attributes\n",
    "    ----------\n",
    "    N : array\n",
    "        an array of sides, or “faces” for the Die\n",
    "    W : array\n",
    "        an array of weights corresponding the the array of faces, defaults to 1.0 for each face\n",
    "        \n",
    "    Methods\n",
    "    -------\n",
    "    __init__\n",
    "        Takes an array of faces as an argument. The array's data type (dtype) may be strings or numbers.\n",
    "        Internally initializes the weights to 1.0 for each face.\n",
    "        Saves both faces and weights into a private dataframe that is to be shared by the other methods.\n",
    "    \n",
    "    change_weight(self, face, new_weight) \n",
    "        A method to change the weight of a single side\n",
    "        \n",
    "    roll_die(self, nrolls=1)\n",
    "        A method to roll the die one or more times. Defaults to 1 roll\n",
    "    \"\"\"\n",
    "    \n",
    "    def __init__(self, N, W=1.0):\n",
    "        \n",
    "        \"\"\"\n",
    "        Parameters\n",
    "        ----------\n",
    "        N : array\n",
    "            an array of sides, or “faces” for the Die\n",
    "        W : array\n",
    "            an array of weights corresponding the the array of faces, \n",
    "            defaults to 1.0 for each face but can be changed after the object is created.\n",
    "        \"\"\"\n",
    "        \n",
    "        self.N = N\n",
    "        self.W = np.ones(len(N))\n",
    "        self._dfpriv = pd.DataFrame({'faces': self.N, 'weights': self.W})\n",
    "        \n",
    "\n",
    "    \n",
    "\n",
    "    def change_weight(self, face, new_weight):\n",
    "        \n",
    "        \"\"\"A method to change the weight of a single side.\n",
    "\n",
    "            Checks to see if the face passed is valid; is it in the array of weights?\n",
    "            Checks to see if the weight is valid; is it a float? Can it be converted to one?\n",
    "            \n",
    "            Parameters\n",
    "            ----------\n",
    "            face : str or int \n",
    "                the face value to be changed\n",
    "            new_weight : float\n",
    "                the new weight\n",
    "        \"\"\"\n",
    "        try: \n",
    "            new_weight = float(new_weight)\n",
    "        except ValueError:\n",
    "            print(\"Oops!  That was no valid number.  Try again...\")\n",
    "            \n",
    "        if face in self._dfpriv.faces.values:\n",
    "            self._dfpriv.loc[self._dfpriv.faces == face, \"weights\"] = new_weight\n",
    "            #self._dfpriv = pd.DataFrame({'faces': self.N, 'weights': self.W})\n",
    "        \n",
    "        \n",
    "        \n",
    "    def roll_die(self, nrolls=1):\n",
    "        \n",
    "        \"\"\"A method to roll the die one or more times. Returns a list of outcomes\n",
    "\n",
    "            If the arguement \"nrolls\" is not passed in, defaults to 1 \n",
    "            \n",
    "            Parameters\n",
    "            ----------\n",
    "            nrolls : int, optional\n",
    "                how many times the die is to be rolled (default is 1)\n",
    "        \"\"\"\n",
    "        \n",
    "        result = choices(self.N, self.W,\n",
    "              k=nrolls)\n",
    "        return pd.Series(result)\n",
    "    \n",
    "        \n",
    "class Game:\n",
    "    \"\"\"\n",
    "    A class used to represent a Game. A game consists of rolling of one or more dice of the same kind one or more times. \n",
    "    The class keeps the results of its most recent play. \n",
    "\n",
    "    ...\n",
    "\n",
    "    Attributes\n",
    "    ----------\n",
    "    dice : array\n",
    "        a list of already instantiated similar Die objects\n",
    "\n",
    "        \n",
    "    Methods\n",
    "    -------\n",
    "    __init__\n",
    "        Takes a single parameter, a list of already instantiated similar Die objects.\n",
    "        \n",
    "    play(self, nrolls)\n",
    "        Takes a parameter to specify how many times the dice should be rolled.\n",
    "        Saves the result of the play to a private dataframe of shape N rolls by M dice which can be accessed with show()\n",
    "        \n",
    "    show(self, show='wide')\n",
    "        A method to pass the private play() dataframe to the user. Defaults to a wide dataframe\n",
    "    \"\"\"\n",
    "    def __init__(self, dice):\n",
    "\n",
    "        \"\"\"\n",
    "        Parameters\n",
    "        ----------\n",
    "        dice : array\n",
    "            an array of already instantiated similar Die objects\n",
    "\n",
    "        \"\"\"\n",
    "        self.dice = dice\n",
    "    \n",
    "    def play(self,nrolls):\n",
    "\n",
    "        \"\"\"A method which takes a number of times to roll the dice \n",
    "\n",
    "            Saves the result of the play to a private dataframe of shape N rolls by M dice.\n",
    "        \n",
    "            Parameters\n",
    "            ----------\n",
    "            nrolls : int\n",
    "                the number of times to roll the dice \n",
    "        \"\"\"        \n",
    "        \n",
    "        self._playdf = pd.DataFrame({'Roll #': range(0+1, len(self.dice[0].N)+1)}).set_index('Roll #')\n",
    "        for x in range(len(self.dice)):\n",
    "            self._playdf[\"Die\"+str(x+1)] = self.dice[x].roll_die(nrolls+1)\n",
    "    \n",
    "    \n",
    "        \n",
    "    def show(self, show='wide'):\n",
    "\n",
    "        \"\"\"A method to show the user the results of the most recent play\n",
    "\n",
    "            Passes the private dataframe to the user\n",
    "        \n",
    "            Parameters\n",
    "            ----------\n",
    "            show : 'wide' or 'narrow'\n",
    "                choice to display dataframe in wide or narrow format (defaults to 'wide' form)\n",
    "        \"\"\"  \n",
    "        \n",
    "        if show=='wide':\n",
    "            return self._playdf\n",
    "        if show=='narrow':\n",
    "            return self._playdf.unstack()\n",
    "            \n",
    "\n",
    "class Analyzer:\n",
    "    \"\"\"\n",
    "    A class which takes the results of a single game and computes various descriptive statistical properties about it. \n",
    "    These properties results are available as attributes of an Analyzer object. \n",
    "\n",
    "    ...\n",
    "\n",
    "    Attributes\n",
    "    ----------\n",
    "    game : game object\n",
    "        an object of class Game\n",
    "\n",
    "        \n",
    "    Methods\n",
    "    -------\n",
    "    __init__\n",
    "        Takes a game object as its input parameter. \n",
    "        At initialization time, it also infers the data type of the die faces used\n",
    "        \n",
    "    jackpot(self)\n",
    "        A method to compute how many times the game resulted in all faces being identical\n",
    "        \n",
    "    combo(self, show='wide')\n",
    "        A method to compute the distinct combinations of faces rolled, along with their counts\n",
    "    \"\"\"    \n",
    "    \n",
    "    def __init__(self, game):\n",
    "\n",
    "        \"\"\"\n",
    "        Parameters\n",
    "        ----------\n",
    "        game : game object\n",
    "            an object of class Game\n",
    "\n",
    "        \"\"\"\n",
    "        self.game = game\n",
    "\n",
    "    def face_count(self):\n",
    "\n",
    "        \"\"\"A method to compute how many times the game resulted in all faces being identical\n",
    "\n",
    "            Returns an integer for the number times to the user.\n",
    "            Stores the results as a dataframe of jackpot results in a public attribute .jackpotdf\n",
    "        \n",
    "            Parameters\n",
    "            ----------\n",
    "            analyzer : Analyzer object\n",
    "                object of class Analyzer\n",
    "        \"\"\"  \n",
    "    \n",
    "        self.fc = self.game.show().apply(pd.Series.value_counts, axis=1).fillna(0).astype(int)\n",
    "        self.fc.columns.name = \"Face\"\n",
    "    \n",
    "    def jackpot(self):\n",
    "\n",
    "        \"\"\"A method to compute how many times the game resulted in all faces being identical\n",
    "\n",
    "            Returns an integer for the number times to the user.\n",
    "            Stores the results as a dataframe of jackpot results in a public attribute .jackpotdf\n",
    "        \n",
    "            Parameters\n",
    "            ----------\n",
    "            analyzer : Analyzer object\n",
    "                object of class Analyzer\n",
    "        \"\"\"  \n",
    "\n",
    "        df=self.game.show(\"wide\")\n",
    "        jackpot_number = len(df[df.nunique(axis=1)==1])\n",
    "        self.jackpotdf = df[df.nunique(axis=1)==1]\n",
    "        \n",
    "        return jackpot_number\n",
    "    \n",
    "\n",
    "    def combo(self):\n",
    "\n",
    "        \"\"\"A method to compute the distinct combinations of faces rolled, along with their counts\n",
    "        \n",
    "            Stores the results as a dataframe in a public attribute.\n",
    "        \n",
    "            Parameters\n",
    "            ----------\n",
    "            analyzer : Analyzer object\n",
    "                object of class Analyzer\n",
    "        \"\"\"  \n",
    "        self.fc = self.game.show().apply(pd.Series.value_counts, axis=1).fillna(0).astype(int)\n",
    "        self.fc.columns.name = \"Face\"\n",
    "        \n",
    "        comb = list(combinations_with_replacement(self.fc.columns.tolist(), len(self.game.dice)))\n",
    "\n",
    "        return comb\n",
    "                    "
   ]
  },
  {
   "cell_type": "markdown",
   "metadata": {},
   "source": [
    "# Test Results"
   ]
  },
  {
   "cell_type": "code",
   "execution_count": 3,
   "metadata": {},
   "outputs": [],
   "source": [
    "# A text block with the output of a successful test."
   ]
  },
  {
   "cell_type": "markdown",
   "metadata": {},
   "source": [
    "# Scenarios\n",
    "\n",
    "Code blocks with your scenarios and their outputs. \n",
    "\n",
    "These should have appropriate import statements even though the code is now in the same notebook as the classes it calls. "
   ]
  },
  {
   "cell_type": "markdown",
   "metadata": {},
   "source": [
    "## Scenario 1"
   ]
  },
  {
   "cell_type": "code",
   "execution_count": 4,
   "metadata": {},
   "outputs": [
    {
     "ename": "ModuleNotFoundError",
     "evalue": "No module named 'die'",
     "output_type": "error",
     "traceback": [
      "\u001b[0;31m---------------------------------------------------------------------------\u001b[0m",
      "\u001b[0;31mModuleNotFoundError\u001b[0m                       Traceback (most recent call last)",
      "\u001b[0;32m<ipython-input-4-24082175b565>\u001b[0m in \u001b[0;36m<module>\u001b[0;34m\u001b[0m\n\u001b[0;32m----> 1\u001b[0;31m \u001b[0;32mfrom\u001b[0m \u001b[0mdie\u001b[0m \u001b[0;32mimport\u001b[0m \u001b[0mDie\u001b[0m\u001b[0;34m\u001b[0m\u001b[0;34m\u001b[0m\u001b[0m\n\u001b[0m",
      "\u001b[0;31mModuleNotFoundError\u001b[0m: No module named 'die'"
     ]
    }
   ],
   "source": [
    "from die import Die"
   ]
  },
  {
   "cell_type": "code",
   "execution_count": 5,
   "metadata": {},
   "outputs": [],
   "source": [
    "# Code blocks with output"
   ]
  },
  {
   "cell_type": "markdown",
   "metadata": {},
   "source": [
    "## Scenario 2"
   ]
  },
  {
   "cell_type": "code",
   "execution_count": null,
   "metadata": {},
   "outputs": [],
   "source": [
    "# Code blocks with output"
   ]
  },
  {
   "cell_type": "markdown",
   "metadata": {},
   "source": [
    "## Scenario 3"
   ]
  },
  {
   "cell_type": "code",
   "execution_count": null,
   "metadata": {},
   "outputs": [],
   "source": [
    "# Code blocks with output"
   ]
  },
  {
   "cell_type": "markdown",
   "metadata": {},
   "source": [
    "# Directory Listing\n",
    "\n",
    "A code block that executes the following bash command: \n",
    "\n",
    "```bash\n",
    "!ls -lRF -o\n",
    "```"
   ]
  },
  {
   "cell_type": "code",
   "execution_count": null,
   "metadata": {},
   "outputs": [],
   "source": [
    "!ls -lRF -o"
   ]
  },
  {
   "cell_type": "markdown",
   "metadata": {
    "tags": []
   },
   "source": [
    "# Installation Output Listing\n",
    "    \n",
    "A code block that executes the code to install your your package and outputs a successful installation."
   ]
  },
  {
   "cell_type": "code",
   "execution_count": null,
   "metadata": {},
   "outputs": [],
   "source": [
    "# Installation commands"
   ]
  },
  {
   "cell_type": "code",
   "execution_count": null,
   "metadata": {},
   "outputs": [],
   "source": []
  }
 ],
 "metadata": {
  "kernelspec": {
   "display_name": "Python 3",
   "language": "python",
   "name": "python3"
  },
  "language_info": {
   "codemirror_mode": {
    "name": "ipython",
    "version": 3
   },
   "file_extension": ".py",
   "mimetype": "text/x-python",
   "name": "python",
   "nbconvert_exporter": "python",
   "pygments_lexer": "ipython3",
   "version": "3.8.5"
  },
  "widgets": {
   "application/vnd.jupyter.widget-state+json": {
    "state": {},
    "version_major": 2,
    "version_minor": 0
   }
  }
 },
 "nbformat": 4,
 "nbformat_minor": 5
}
